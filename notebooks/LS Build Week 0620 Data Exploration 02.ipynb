{
 "cells": [
  {
   "cell_type": "code",
   "execution_count": 1,
   "metadata": {
    "colab": {},
    "colab_type": "code",
    "executionInfo": {
     "elapsed": 533,
     "status": "ok",
     "timestamp": 1592825446649,
     "user": {
      "displayName": "Dan Anderson",
      "photoUrl": "https://lh3.googleusercontent.com/a-/AOh14GiZHeXYTevbWuiW1x6qJrJofr794LrUG_0yJS9R7w=s64",
      "userId": "15279993425386130717"
     },
     "user_tz": 300
    },
    "id": "u7ipp_FbbUNB"
   },
   "outputs": [],
   "source": [
    "# Imports\n",
    "import pandas as pd"
   ]
  },
  {
   "cell_type": "markdown",
   "metadata": {
    "colab_type": "text",
    "id": "LPtcRngq7Jpn"
   },
   "source": [
    "## IMPORT STRAIN & SYMPTOM DATA"
   ]
  },
  {
   "cell_type": "code",
   "execution_count": 2,
   "metadata": {
    "colab": {},
    "colab_type": "code",
    "executionInfo": {
     "elapsed": 1940,
     "status": "ok",
     "timestamp": 1592825452057,
     "user": {
      "displayName": "Dan Anderson",
      "photoUrl": "https://lh3.googleusercontent.com/a-/AOh14GiZHeXYTevbWuiW1x6qJrJofr794LrUG_0yJS9R7w=s64",
      "userId": "15279993425386130717"
     },
     "user_tz": 300
    },
    "id": "GdcIgzvWg35V"
   },
   "outputs": [],
   "source": [
    "# Read in the symptoms_updated.csv file\n",
    "df_data = pd.read_csv(\"https://dsfiles.dananderson.dev/files/symptoms_updated.csv\")"
   ]
  },
  {
   "cell_type": "code",
   "execution_count": 3,
   "metadata": {
    "colab": {
     "base_uri": "https://localhost:8080/",
     "height": 289
    },
    "colab_type": "code",
    "executionInfo": {
     "elapsed": 980,
     "status": "ok",
     "timestamp": 1592825456901,
     "user": {
      "displayName": "Dan Anderson",
      "photoUrl": "https://lh3.googleusercontent.com/a-/AOh14GiZHeXYTevbWuiW1x6qJrJofr794LrUG_0yJS9R7w=s64",
      "userId": "15279993425386130717"
     },
     "user_tz": 300
    },
    "id": "KJQUzIdQqeLQ",
    "outputId": "94ab8f1f-136a-4fd1-92d6-2938f9888031"
   },
   "outputs": [
    {
     "data": {
      "text/html": [
       "<div>\n",
       "<style scoped>\n",
       "    .dataframe tbody tr th:only-of-type {\n",
       "        vertical-align: middle;\n",
       "    }\n",
       "\n",
       "    .dataframe tbody tr th {\n",
       "        vertical-align: top;\n",
       "    }\n",
       "\n",
       "    .dataframe thead th {\n",
       "        text-align: right;\n",
       "    }\n",
       "</style>\n",
       "<table border=\"1\" class=\"dataframe\">\n",
       "  <thead>\n",
       "    <tr style=\"text-align: right;\">\n",
       "      <th></th>\n",
       "      <th>index</th>\n",
       "      <th>Strain</th>\n",
       "      <th>Type</th>\n",
       "      <th>Rating</th>\n",
       "      <th>Effects</th>\n",
       "      <th>Flavor</th>\n",
       "      <th>symptoms_diseases</th>\n",
       "      <th>Description</th>\n",
       "      <th>text_all</th>\n",
       "      <th>Effects_and_Flavor</th>\n",
       "      <th>tokens</th>\n",
       "      <th>description_formatted</th>\n",
       "    </tr>\n",
       "  </thead>\n",
       "  <tbody>\n",
       "    <tr>\n",
       "      <th>0</th>\n",
       "      <td>0</td>\n",
       "      <td>100-Og</td>\n",
       "      <td>hybrid</td>\n",
       "      <td>4.0</td>\n",
       "      <td>Creative, Energetic, Tingly, Euphoric, Relaxed</td>\n",
       "      <td>Earthy, Sweet, Citrus</td>\n",
       "      <td>ms, pain, pain, spasticity,</td>\n",
       "      <td>$100 OG is a 50/50 hybrid strain that packs a ...</td>\n",
       "      <td>Creative  Energetic  Tingly  Euphoric  Relaxed...</td>\n",
       "      <td>Creative, Energetic, Tingly, Euphoric, Relaxed...</td>\n",
       "      <td>['creative', 'energetic', 'tingly', 'euphoric'...</td>\n",
       "      <td>$100 og is a 50/50 hybrid strain that packs a ...</td>\n",
       "    </tr>\n",
       "    <tr>\n",
       "      <th>1</th>\n",
       "      <td>1</td>\n",
       "      <td>98-White-Widow</td>\n",
       "      <td>hybrid</td>\n",
       "      <td>4.7</td>\n",
       "      <td>Relaxed, Aroused, Creative, Happy, Energetic</td>\n",
       "      <td>Flowery, Violet, Diesel</td>\n",
       "      <td>spasticity,</td>\n",
       "      <td>The ‚Äò98 Aloha White Widow is an especially p...</td>\n",
       "      <td>Relaxed  Aroused  Creative  Happy  Energetic  ...</td>\n",
       "      <td>Relaxed, Aroused, Creative, Happy, Energetic, ...</td>\n",
       "      <td>['relaxed', 'aroused', 'creative', 'happy', 'e...</td>\n",
       "      <td>the ‚Äò98 aloha white widow is an especially p...</td>\n",
       "    </tr>\n",
       "    <tr>\n",
       "      <th>2</th>\n",
       "      <td>2</td>\n",
       "      <td>1024</td>\n",
       "      <td>sativa</td>\n",
       "      <td>4.4</td>\n",
       "      <td>Uplifted, Happy, Relaxed, Energetic, Creative</td>\n",
       "      <td>Spicy/Herbal, Sage, Woody</td>\n",
       "      <td>pain, pain, spasticity,</td>\n",
       "      <td>1024 is a sativa-dominant hybrid bred in Spain...</td>\n",
       "      <td>Uplifted  Happy  Relaxed  Energetic  Creative ...</td>\n",
       "      <td>Uplifted, Happy, Relaxed, Energetic, Creative,...</td>\n",
       "      <td>['uplifted', 'happy', 'relaxed', 'energetic', ...</td>\n",
       "      <td>1024 is a sativa-dominant hybrid bred in spain...</td>\n",
       "    </tr>\n",
       "    <tr>\n",
       "      <th>3</th>\n",
       "      <td>3</td>\n",
       "      <td>13-Dawgs</td>\n",
       "      <td>hybrid</td>\n",
       "      <td>4.2</td>\n",
       "      <td>Tingly, Creative, Hungry, Relaxed, Uplifted</td>\n",
       "      <td>Apricot, Citrus, Grapefruit</td>\n",
       "      <td>appetite, appetite, depression, spasticity,</td>\n",
       "      <td>13 Dawgs is a hybrid of G13 and Chemdawg genet...</td>\n",
       "      <td>Tingly  Creative  Hungry  Relaxed  Uplifted  A...</td>\n",
       "      <td>Tingly, Creative, Hungry, Relaxed, Uplifted, A...</td>\n",
       "      <td>['tingly', 'creative', 'hungry', 'relaxed', 'u...</td>\n",
       "      <td>13 dawgs is a hybrid of g13 and chemdawg genet...</td>\n",
       "    </tr>\n",
       "    <tr>\n",
       "      <th>4</th>\n",
       "      <td>4</td>\n",
       "      <td>24K-Gold</td>\n",
       "      <td>hybrid</td>\n",
       "      <td>4.6</td>\n",
       "      <td>Happy, Relaxed, Euphoric, Uplifted, Talkative</td>\n",
       "      <td>Citrus, Earthy, Orange</td>\n",
       "      <td>spasticity,</td>\n",
       "      <td>Also known as Kosher Tangie  24k Gold is a 60%...</td>\n",
       "      <td>Happy  Relaxed  Euphoric  Uplifted  Talkative ...</td>\n",
       "      <td>Happy, Relaxed, Euphoric, Uplifted, Talkative,...</td>\n",
       "      <td>['happy', 'relaxed', 'euphoric', 'uplifted', '...</td>\n",
       "      <td>also known as kosher tangie  24k gold is a 60%...</td>\n",
       "    </tr>\n",
       "  </tbody>\n",
       "</table>\n",
       "</div>"
      ],
      "text/plain": [
       "   index          Strain    Type  Rating  \\\n",
       "0      0          100-Og  hybrid     4.0   \n",
       "1      1  98-White-Widow  hybrid     4.7   \n",
       "2      2            1024  sativa     4.4   \n",
       "3      3        13-Dawgs  hybrid     4.2   \n",
       "4      4        24K-Gold  hybrid     4.6   \n",
       "\n",
       "                                          Effects  \\\n",
       "0  Creative, Energetic, Tingly, Euphoric, Relaxed   \n",
       "1    Relaxed, Aroused, Creative, Happy, Energetic   \n",
       "2   Uplifted, Happy, Relaxed, Energetic, Creative   \n",
       "3     Tingly, Creative, Hungry, Relaxed, Uplifted   \n",
       "4   Happy, Relaxed, Euphoric, Uplifted, Talkative   \n",
       "\n",
       "                        Flavor                             symptoms_diseases  \\\n",
       "0        Earthy, Sweet, Citrus                  ms, pain, pain, spasticity,    \n",
       "1      Flowery, Violet, Diesel                                  spasticity,    \n",
       "2    Spicy/Herbal, Sage, Woody                      pain, pain, spasticity,    \n",
       "3  Apricot, Citrus, Grapefruit  appetite, appetite, depression, spasticity,    \n",
       "4       Citrus, Earthy, Orange                                  spasticity,    \n",
       "\n",
       "                                         Description  \\\n",
       "0  $100 OG is a 50/50 hybrid strain that packs a ...   \n",
       "1  The ‚Äò98 Aloha White Widow is an especially p...   \n",
       "2  1024 is a sativa-dominant hybrid bred in Spain...   \n",
       "3  13 Dawgs is a hybrid of G13 and Chemdawg genet...   \n",
       "4  Also known as Kosher Tangie  24k Gold is a 60%...   \n",
       "\n",
       "                                            text_all  \\\n",
       "0  Creative  Energetic  Tingly  Euphoric  Relaxed...   \n",
       "1  Relaxed  Aroused  Creative  Happy  Energetic  ...   \n",
       "2  Uplifted  Happy  Relaxed  Energetic  Creative ...   \n",
       "3  Tingly  Creative  Hungry  Relaxed  Uplifted  A...   \n",
       "4  Happy  Relaxed  Euphoric  Uplifted  Talkative ...   \n",
       "\n",
       "                                  Effects_and_Flavor  \\\n",
       "0  Creative, Energetic, Tingly, Euphoric, Relaxed...   \n",
       "1  Relaxed, Aroused, Creative, Happy, Energetic, ...   \n",
       "2  Uplifted, Happy, Relaxed, Energetic, Creative,...   \n",
       "3  Tingly, Creative, Hungry, Relaxed, Uplifted, A...   \n",
       "4  Happy, Relaxed, Euphoric, Uplifted, Talkative,...   \n",
       "\n",
       "                                              tokens  \\\n",
       "0  ['creative', 'energetic', 'tingly', 'euphoric'...   \n",
       "1  ['relaxed', 'aroused', 'creative', 'happy', 'e...   \n",
       "2  ['uplifted', 'happy', 'relaxed', 'energetic', ...   \n",
       "3  ['tingly', 'creative', 'hungry', 'relaxed', 'u...   \n",
       "4  ['happy', 'relaxed', 'euphoric', 'uplifted', '...   \n",
       "\n",
       "                               description_formatted  \n",
       "0  $100 og is a 50/50 hybrid strain that packs a ...  \n",
       "1  the ‚Äò98 aloha white widow is an especially p...  \n",
       "2  1024 is a sativa-dominant hybrid bred in spain...  \n",
       "3  13 dawgs is a hybrid of g13 and chemdawg genet...  \n",
       "4  also known as kosher tangie  24k gold is a 60%...  "
      ]
     },
     "execution_count": 3,
     "metadata": {},
     "output_type": "execute_result"
    }
   ],
   "source": [
    "df_data.head()"
   ]
  },
  {
   "cell_type": "markdown",
   "metadata": {
    "colab_type": "text",
    "id": "TJSp0Wx77b5m"
   },
   "source": [
    "## SPLIT DESCRIPTIONS OF EFFECTS, FLAVORS, AND SYMPTOMS"
   ]
  },
  {
   "cell_type": "code",
   "execution_count": 4,
   "metadata": {
    "colab": {},
    "colab_type": "code",
    "executionInfo": {
     "elapsed": 626,
     "status": "ok",
     "timestamp": 1592825461681,
     "user": {
      "displayName": "Dan Anderson",
      "photoUrl": "https://lh3.googleusercontent.com/a-/AOh14GiZHeXYTevbWuiW1x6qJrJofr794LrUG_0yJS9R7w=s64",
      "userId": "15279993425386130717"
     },
     "user_tz": 300
    },
    "id": "2MyuT-_phUGt"
   },
   "outputs": [],
   "source": [
    "# 'split2list' splits a comma delimited string and returns a list of lower case tokens\n",
    "def split2list(val):\n",
    "  ret_list = []\n",
    "\n",
    "  # Is the passed value Nan?\n",
    "  if pd.isna(val):\n",
    "    return ['none']\n",
    "\n",
    "  # Is the value an empty string?\n",
    "  if val == \"\":\n",
    "    return ['none']\n",
    "\n",
    "  # Lower case the input value\n",
    "  tmp_lower = val.lower()\n",
    "\n",
    "  # Is the value \"none\"?\n",
    "  if tmp_lower == \"none\":\n",
    "    return ['none']\n",
    "\n",
    "  # Split the string value into tokens delimited by commas\n",
    "  tmp_list = tmp_lower.split(',')\n",
    "\n",
    "  # Is tmp_list empty?\n",
    "  if len(tmp_list) == 0:\n",
    "    return ['none']\n",
    "\n",
    "  # Iterate through the temp list and trim values\n",
    "  for elm in tmp_list:\n",
    "    # If the list element is all spaces then skip\n",
    "    if elm.strip() == \"\":\n",
    "      continue\n",
    "\n",
    "    # Otherwise strip the string of leading and trailing spaces and add to the\n",
    "    #  return list\n",
    "    ret_list.append(elm.strip())\n",
    "\n",
    "  # Return the list\n",
    "  return ret_list\n"
   ]
  },
  {
   "cell_type": "code",
   "execution_count": 5,
   "metadata": {
    "colab": {},
    "colab_type": "code",
    "executionInfo": {
     "elapsed": 500,
     "status": "ok",
     "timestamp": 1592825465606,
     "user": {
      "displayName": "Dan Anderson",
      "photoUrl": "https://lh3.googleusercontent.com/a-/AOh14GiZHeXYTevbWuiW1x6qJrJofr794LrUG_0yJS9R7w=s64",
      "userId": "15279993425386130717"
     },
     "user_tz": 300
    },
    "id": "dhtgwDPyqStY"
   },
   "outputs": [],
   "source": [
    "# Create a working copy of the initial dataframe\n",
    "df_data_upd = df_data.copy()"
   ]
  },
  {
   "cell_type": "code",
   "execution_count": 6,
   "metadata": {
    "colab": {},
    "colab_type": "code",
    "executionInfo": {
     "elapsed": 455,
     "status": "ok",
     "timestamp": 1592825468157,
     "user": {
      "displayName": "Dan Anderson",
      "photoUrl": "https://lh3.googleusercontent.com/a-/AOh14GiZHeXYTevbWuiW1x6qJrJofr794LrUG_0yJS9R7w=s64",
      "userId": "15279993425386130717"
     },
     "user_tz": 300
    },
    "id": "y3KqCDVVqZBO"
   },
   "outputs": [],
   "source": [
    "# Create dataframe columns which consist of lists of tokens for Effects, Flavors, and Symptoms respectively\n",
    "df_data_upd[\"Effects_list\"]           = df_data_upd[\"Effects\"].apply(split2list)\n",
    "df_data_upd[\"Flavor_list\"]            = df_data_upd[\"Flavor\"].apply(split2list)\n",
    "df_data_upd[\"symptoms_diseases_list\"] = df_data_upd[\"symptoms_diseases\"].apply(split2list)\n"
   ]
  },
  {
   "cell_type": "code",
   "execution_count": 7,
   "metadata": {
    "colab": {
     "base_uri": "https://localhost:8080/",
     "height": 204
    },
    "colab_type": "code",
    "executionInfo": {
     "elapsed": 892,
     "status": "ok",
     "timestamp": 1592825471448,
     "user": {
      "displayName": "Dan Anderson",
      "photoUrl": "https://lh3.googleusercontent.com/a-/AOh14GiZHeXYTevbWuiW1x6qJrJofr794LrUG_0yJS9R7w=s64",
      "userId": "15279993425386130717"
     },
     "user_tz": 300
    },
    "id": "TVuqm4rHq43E",
    "outputId": "5c1a177d-e5cd-4225-bf40-c45d8ebfd616"
   },
   "outputs": [
    {
     "data": {
      "text/plain": [
       "573       [hungry, relaxed, tingly, uplifted, creative]\n",
       "1551    [euphoric, happy, relaxed, creative, energetic]\n",
       "1649    [happy, uplifted, creative, focused, talkative]\n",
       "975         [happy, relaxed, euphoric, focused, sleepy]\n",
       "870        [relaxed, happy, euphoric, uplifted, sleepy]\n",
       "331       [energetic, relaxed, euphoric, happy, sleepy]\n",
       "1311     [focused, energetic, uplifted, happy, relaxed]\n",
       "35      [focused, uplifted, happy, euphoric, talkative]\n",
       "488      [relaxed, happy, euphoric, uplifted, creative]\n",
       "2240         [relaxed, happy, euphoric, tingly, hungry]\n",
       "Name: Effects_list, dtype: object"
      ]
     },
     "execution_count": 7,
     "metadata": {},
     "output_type": "execute_result"
    }
   ],
   "source": [
    "# Sample the 'Effects_list' column\n",
    "df_data_upd[\"Effects_list\"].sample(10)"
   ]
  },
  {
   "cell_type": "code",
   "execution_count": 8,
   "metadata": {
    "colab": {
     "base_uri": "https://localhost:8080/",
     "height": 204
    },
    "colab_type": "code",
    "executionInfo": {
     "elapsed": 943,
     "status": "ok",
     "timestamp": 1592825475325,
     "user": {
      "displayName": "Dan Anderson",
      "photoUrl": "https://lh3.googleusercontent.com/a-/AOh14GiZHeXYTevbWuiW1x6qJrJofr794LrUG_0yJS9R7w=s64",
      "userId": "15279993425386130717"
     },
     "user_tz": 300
    },
    "id": "RgwJFnNFuPQg",
    "outputId": "ea4abf89-bec3-44c5-907f-61d6f2e92b74"
   },
   "outputs": [
    {
     "data": {
      "text/plain": [
       "1328           [minty, orange, lemon]\n",
       "1948           [sweet, citrus, berry]\n",
       "793             [pine, woody, citrus]\n",
       "561         [diesel, flowery, earthy]\n",
       "1045        [earthy, pungent, cheese]\n",
       "1018                           [none]\n",
       "1955         [citrus, diesel, orange]\n",
       "1772            [pine, woody, earthy]\n",
       "1873             [grape, pine, nutty]\n",
       "2347    [earthy, sweet, spicy/herbal]\n",
       "Name: Flavor_list, dtype: object"
      ]
     },
     "execution_count": 8,
     "metadata": {},
     "output_type": "execute_result"
    }
   ],
   "source": [
    "# Sample the 'Flavor_list' column\n",
    "df_data_upd[\"Flavor_list\"].sample(10)"
   ]
  },
  {
   "cell_type": "code",
   "execution_count": 9,
   "metadata": {
    "colab": {
     "base_uri": "https://localhost:8080/",
     "height": 204
    },
    "colab_type": "code",
    "executionInfo": {
     "elapsed": 593,
     "status": "ok",
     "timestamp": 1592825478879,
     "user": {
      "displayName": "Dan Anderson",
      "photoUrl": "https://lh3.googleusercontent.com/a-/AOh14GiZHeXYTevbWuiW1x6qJrJofr794LrUG_0yJS9R7w=s64",
      "userId": "15279993425386130717"
     },
     "user_tz": 300
    },
    "id": "GkB4dhU7uVZq",
    "outputId": "e247bf18-f309-46fc-d08d-50781476dfcd"
   },
   "outputs": [
    {
     "data": {
      "text/plain": [
       "2324                              [ms, spasticity]\n",
       "114                                   [spasticity]\n",
       "1555    [headache, nausea, pain, pain, spasticity]\n",
       "1351                                  [spasticity]\n",
       "907                                   [spasticity]\n",
       "2005                        [insomnia, spasticity]\n",
       "1259                                  [spasticity]\n",
       "1024                              [ms, spasticity]\n",
       "2022               [migraines, nausea, spasticity]\n",
       "1386                             [hiv, spasticity]\n",
       "Name: symptoms_diseases_list, dtype: object"
      ]
     },
     "execution_count": 9,
     "metadata": {},
     "output_type": "execute_result"
    }
   ],
   "source": [
    "# Sample the 'symptoms_diseases_list' column\n",
    "df_data_upd[\"symptoms_diseases_list\"].sample(10)"
   ]
  },
  {
   "cell_type": "code",
   "execution_count": 10,
   "metadata": {
    "colab": {},
    "colab_type": "code",
    "executionInfo": {
     "elapsed": 513,
     "status": "ok",
     "timestamp": 1592825482318,
     "user": {
      "displayName": "Dan Anderson",
      "photoUrl": "https://lh3.googleusercontent.com/a-/AOh14GiZHeXYTevbWuiW1x6qJrJofr794LrUG_0yJS9R7w=s64",
      "userId": "15279993425386130717"
     },
     "user_tz": 300
    },
    "id": "pVeJzTpzwUTh"
   },
   "outputs": [],
   "source": [
    "map_effects = {}\n",
    "map_flavors = {}\n",
    "map_symptoms = {}\n",
    "\n",
    "# gen_unique_values takes an inbound list of strings and adds them as keys to a map\n",
    "def gen_unique_values(lst, mp):\n",
    "  # Iterate through the list\n",
    "  for elm in lst:\n",
    "    # Is elm an empty string? Error condition\n",
    "    if elm == \"\":\n",
    "      print(\"error - encountered an empty string\")\n",
    "      return \n",
    "\n",
    "    mp[elm] = 0\n",
    "    return \n"
   ]
  },
  {
   "cell_type": "code",
   "execution_count": 11,
   "metadata": {
    "colab": {
     "base_uri": "https://localhost:8080/",
     "height": 221
    },
    "colab_type": "code",
    "executionInfo": {
     "elapsed": 600,
     "status": "ok",
     "timestamp": 1592825485131,
     "user": {
      "displayName": "Dan Anderson",
      "photoUrl": "https://lh3.googleusercontent.com/a-/AOh14GiZHeXYTevbWuiW1x6qJrJofr794LrUG_0yJS9R7w=s64",
      "userId": "15279993425386130717"
     },
     "user_tz": 300
    },
    "id": "DcscgD1Ayayq",
    "outputId": "e0458b5f-02f0-4920-b0b6-465b11aa60ca"
   },
   "outputs": [
    {
     "data": {
      "text/plain": [
       "0       None\n",
       "1       None\n",
       "2       None\n",
       "3       None\n",
       "4       None\n",
       "5       None\n",
       "6       None\n",
       "7       None\n",
       "8       None\n",
       "9       None\n",
       "10      None\n",
       "11      None\n",
       "12      None\n",
       "13      None\n",
       "14      None\n",
       "15      None\n",
       "16      None\n",
       "17      None\n",
       "18      None\n",
       "19      None\n",
       "20      None\n",
       "21      None\n",
       "22      None\n",
       "23      None\n",
       "24      None\n",
       "25      None\n",
       "26      None\n",
       "27      None\n",
       "28      None\n",
       "29      None\n",
       "        ... \n",
       "2320    None\n",
       "2321    None\n",
       "2322    None\n",
       "2323    None\n",
       "2324    None\n",
       "2325    None\n",
       "2326    None\n",
       "2327    None\n",
       "2328    None\n",
       "2329    None\n",
       "2330    None\n",
       "2331    None\n",
       "2332    None\n",
       "2333    None\n",
       "2334    None\n",
       "2335    None\n",
       "2336    None\n",
       "2337    None\n",
       "2338    None\n",
       "2339    None\n",
       "2340    None\n",
       "2341    None\n",
       "2342    None\n",
       "2343    None\n",
       "2344    None\n",
       "2345    None\n",
       "2346    None\n",
       "2347    None\n",
       "2348    None\n",
       "2349    None\n",
       "Name: symptoms_diseases_list, Length: 2350, dtype: object"
      ]
     },
     "execution_count": 11,
     "metadata": {},
     "output_type": "execute_result"
    }
   ],
   "source": [
    "# Generate maps that contain unique Effects, Flavors, and Symtoms tokens\n",
    "df_data_upd[\"Effects_list\"].apply(gen_unique_values, mp=map_effects)\n",
    "df_data_upd[\"Flavor_list\"].apply(gen_unique_values, mp=map_flavors)\n",
    "df_data_upd[\"symptoms_diseases_list\"].apply(gen_unique_values, mp=map_symptoms)"
   ]
  },
  {
   "cell_type": "markdown",
   "metadata": {
    "colab_type": "text",
    "id": "fEaZW2ye7nMs"
   },
   "source": [
    "## CLEAN STRAIN DESCRIPTIONS"
   ]
  },
  {
   "cell_type": "code",
   "execution_count": 12,
   "metadata": {
    "colab": {},
    "colab_type": "code",
    "executionInfo": {
     "elapsed": 574,
     "status": "ok",
     "timestamp": 1592825489866,
     "user": {
      "displayName": "Dan Anderson",
      "photoUrl": "https://lh3.googleusercontent.com/a-/AOh14GiZHeXYTevbWuiW1x6qJrJofr794LrUG_0yJS9R7w=s64",
      "userId": "15279993425386130717"
     },
     "user_tz": 300
    },
    "id": "NLVbqO82RJGf"
   },
   "outputs": [],
   "source": [
    "# Steps to Clean the Strain Descriptions\n",
    "import re\n",
    "import pandas as pd\n",
    "\n",
    "# Regular expression used to remove non-standard characters\n",
    "rgxNotStdChars = re.compile(r'[^a-zA-z0-9.,!?/:;\\\"\\'\\s]')\n",
    "rgxMultWhtSpce = re.compile(r'\\s{2,}')\n",
    "\n",
    "# 'retain_std_chars' takes a string and returns that string with non-standard\n",
    "#    characters removed\n",
    "def retain_std_chars(val):\n",
    "  # Is the passed value NaN?\n",
    "  if pd.isna(val):\n",
    "    return 'none'\n",
    "\n",
    "  # Is the passed not a string?\n",
    "  if type(val) != str:\n",
    "    return 'none'\n",
    "\n",
    "  # Is the value an empty string?\n",
    "  if val == \"\":\n",
    "    return 'none'\n",
    "\n",
    "  # Lower case the input value\n",
    "  tmp_lower = val.lower()\n",
    "\n",
    "  # Is the value \"none\"?\n",
    "  if tmp_lower == \"none\":\n",
    "    return 'none'\n",
    "\n",
    "  # Remove non-standard characters\n",
    "  tmp_std = re.sub(rgxNotStdChars, \"\", tmp_lower)\n",
    "\n",
    "  # Convert multiple whitespace characters to one whitespace character\n",
    "  tmp_wht = re.sub(rgxMultWhtSpce, \"\", tmp_std)\n",
    "\n",
    "  # Strip leading and trailing whitespace\n",
    "  tmp_rtn = tmp_wht.strip()\n",
    "  \n",
    "  return tmp_rtn"
   ]
  },
  {
   "cell_type": "code",
   "execution_count": 13,
   "metadata": {
    "colab": {},
    "colab_type": "code",
    "executionInfo": {
     "elapsed": 439,
     "status": "ok",
     "timestamp": 1592825495102,
     "user": {
      "displayName": "Dan Anderson",
      "photoUrl": "https://lh3.googleusercontent.com/a-/AOh14GiZHeXYTevbWuiW1x6qJrJofr794LrUG_0yJS9R7w=s64",
      "userId": "15279993425386130717"
     },
     "user_tz": 300
    },
    "id": "8hWeCkzyVavF"
   },
   "outputs": [],
   "source": [
    "df_data_upd['Description_cleaned'] = df_data_upd['Description'].apply(retain_std_chars)"
   ]
  },
  {
   "cell_type": "markdown",
   "metadata": {
    "colab_type": "text",
    "id": "pNy6SRUc708i"
   },
   "source": [
    "## GENERATE WORK 'TOKENS' FOR THE STRAIN DESCRIPTIONS & CHARACTERISTICS"
   ]
  },
  {
   "cell_type": "code",
   "execution_count": 14,
   "metadata": {},
   "outputs": [
    {
     "name": "stdout",
     "output_type": "stream",
     "text": [
      "Requirement already satisfied: spacy in /Users/danoand/anaconda3/lib/python3.7/site-packages (2.3.0)\n",
      "Requirement already satisfied: requests<3.0.0,>=2.13.0 in /Users/danoand/anaconda3/lib/python3.7/site-packages (from spacy) (2.22.0)\n",
      "Requirement already satisfied: cymem<2.1.0,>=2.0.2 in /Users/danoand/anaconda3/lib/python3.7/site-packages (from spacy) (2.0.3)\n",
      "Requirement already satisfied: thinc==7.4.1 in /Users/danoand/anaconda3/lib/python3.7/site-packages (from spacy) (7.4.1)\n",
      "Requirement already satisfied: murmurhash<1.1.0,>=0.28.0 in /Users/danoand/anaconda3/lib/python3.7/site-packages (from spacy) (1.0.2)\n",
      "Requirement already satisfied: srsly<1.1.0,>=1.0.2 in /Users/danoand/anaconda3/lib/python3.7/site-packages (from spacy) (1.0.2)\n",
      "Requirement already satisfied: tqdm<5.0.0,>=4.38.0 in /Users/danoand/anaconda3/lib/python3.7/site-packages (from spacy) (4.46.1)\n",
      "Requirement already satisfied: wasabi<1.1.0,>=0.4.0 in /Users/danoand/anaconda3/lib/python3.7/site-packages (from spacy) (0.7.0)\n",
      "Requirement already satisfied: preshed<3.1.0,>=3.0.2 in /Users/danoand/anaconda3/lib/python3.7/site-packages (from spacy) (3.0.2)\n",
      "Requirement already satisfied: catalogue<1.1.0,>=0.0.7 in /Users/danoand/anaconda3/lib/python3.7/site-packages (from spacy) (1.0.0)\n",
      "Requirement already satisfied: setuptools in /Users/danoand/anaconda3/lib/python3.7/site-packages (from spacy) (41.0.1)\n",
      "Requirement already satisfied: plac<1.2.0,>=0.9.6 in /Users/danoand/anaconda3/lib/python3.7/site-packages (from spacy) (1.1.3)\n",
      "Requirement already satisfied: numpy>=1.15.0 in /Users/danoand/anaconda3/lib/python3.7/site-packages (from spacy) (1.16.4)\n",
      "Requirement already satisfied: blis<0.5.0,>=0.4.0 in /Users/danoand/anaconda3/lib/python3.7/site-packages (from spacy) (0.4.1)\n",
      "Requirement already satisfied: certifi>=2017.4.17 in /Users/danoand/anaconda3/lib/python3.7/site-packages (from requests<3.0.0,>=2.13.0->spacy) (2019.6.16)\n",
      "Requirement already satisfied: chardet<3.1.0,>=3.0.2 in /Users/danoand/anaconda3/lib/python3.7/site-packages (from requests<3.0.0,>=2.13.0->spacy) (3.0.4)\n",
      "Requirement already satisfied: idna<2.9,>=2.5 in /Users/danoand/anaconda3/lib/python3.7/site-packages (from requests<3.0.0,>=2.13.0->spacy) (2.8)\n",
      "Requirement already satisfied: urllib3!=1.25.0,!=1.25.1,<1.26,>=1.21.1 in /Users/danoand/anaconda3/lib/python3.7/site-packages (from requests<3.0.0,>=2.13.0->spacy) (1.24.2)\n",
      "Requirement already satisfied: importlib-metadata>=0.20; python_version < \"3.8\" in /Users/danoand/anaconda3/lib/python3.7/site-packages (from catalogue<1.1.0,>=0.0.7->spacy) (1.6.1)\n",
      "Requirement already satisfied: zipp>=0.5 in /Users/danoand/anaconda3/lib/python3.7/site-packages (from importlib-metadata>=0.20; python_version < \"3.8\"->catalogue<1.1.0,>=0.0.7->spacy) (0.5.1)\n",
      "\u001b[33mWARNING: You are using pip version 20.1; however, version 20.1.1 is available.\n",
      "You should consider upgrading via the '/Users/danoand/anaconda3/bin/python -m pip install --upgrade pip' command.\u001b[0m\n"
     ]
    }
   ],
   "source": [
    "!pip install spacy"
   ]
  },
  {
   "cell_type": "code",
   "execution_count": 15,
   "metadata": {},
   "outputs": [
    {
     "name": "stdout",
     "output_type": "stream",
     "text": [
      "Requirement already satisfied: en_core_web_sm==2.3.0 from https://github.com/explosion/spacy-models/releases/download/en_core_web_sm-2.3.0/en_core_web_sm-2.3.0.tar.gz#egg=en_core_web_sm==2.3.0 in /Users/danoand/anaconda3/lib/python3.7/site-packages (2.3.0)\n",
      "Requirement already satisfied: spacy<2.4.0,>=2.3.0 in /Users/danoand/anaconda3/lib/python3.7/site-packages (from en_core_web_sm==2.3.0) (2.3.0)\n",
      "Requirement already satisfied: blis<0.5.0,>=0.4.0 in /Users/danoand/anaconda3/lib/python3.7/site-packages (from spacy<2.4.0,>=2.3.0->en_core_web_sm==2.3.0) (0.4.1)\n",
      "Requirement already satisfied: numpy>=1.15.0 in /Users/danoand/anaconda3/lib/python3.7/site-packages (from spacy<2.4.0,>=2.3.0->en_core_web_sm==2.3.0) (1.16.4)\n",
      "Requirement already satisfied: cymem<2.1.0,>=2.0.2 in /Users/danoand/anaconda3/lib/python3.7/site-packages (from spacy<2.4.0,>=2.3.0->en_core_web_sm==2.3.0) (2.0.3)\n",
      "Requirement already satisfied: srsly<1.1.0,>=1.0.2 in /Users/danoand/anaconda3/lib/python3.7/site-packages (from spacy<2.4.0,>=2.3.0->en_core_web_sm==2.3.0) (1.0.2)\n",
      "Requirement already satisfied: catalogue<1.1.0,>=0.0.7 in /Users/danoand/anaconda3/lib/python3.7/site-packages (from spacy<2.4.0,>=2.3.0->en_core_web_sm==2.3.0) (1.0.0)\n",
      "Requirement already satisfied: tqdm<5.0.0,>=4.38.0 in /Users/danoand/anaconda3/lib/python3.7/site-packages (from spacy<2.4.0,>=2.3.0->en_core_web_sm==2.3.0) (4.46.1)\n",
      "Requirement already satisfied: plac<1.2.0,>=0.9.6 in /Users/danoand/anaconda3/lib/python3.7/site-packages (from spacy<2.4.0,>=2.3.0->en_core_web_sm==2.3.0) (1.1.3)\n",
      "Requirement already satisfied: preshed<3.1.0,>=3.0.2 in /Users/danoand/anaconda3/lib/python3.7/site-packages (from spacy<2.4.0,>=2.3.0->en_core_web_sm==2.3.0) (3.0.2)\n",
      "Requirement already satisfied: murmurhash<1.1.0,>=0.28.0 in /Users/danoand/anaconda3/lib/python3.7/site-packages (from spacy<2.4.0,>=2.3.0->en_core_web_sm==2.3.0) (1.0.2)\n",
      "Requirement already satisfied: setuptools in /Users/danoand/anaconda3/lib/python3.7/site-packages (from spacy<2.4.0,>=2.3.0->en_core_web_sm==2.3.0) (41.0.1)\n",
      "Requirement already satisfied: requests<3.0.0,>=2.13.0 in /Users/danoand/anaconda3/lib/python3.7/site-packages (from spacy<2.4.0,>=2.3.0->en_core_web_sm==2.3.0) (2.22.0)\n",
      "Requirement already satisfied: thinc==7.4.1 in /Users/danoand/anaconda3/lib/python3.7/site-packages (from spacy<2.4.0,>=2.3.0->en_core_web_sm==2.3.0) (7.4.1)\n",
      "Requirement already satisfied: wasabi<1.1.0,>=0.4.0 in /Users/danoand/anaconda3/lib/python3.7/site-packages (from spacy<2.4.0,>=2.3.0->en_core_web_sm==2.3.0) (0.7.0)\n",
      "Requirement already satisfied: importlib-metadata>=0.20; python_version < \"3.8\" in /Users/danoand/anaconda3/lib/python3.7/site-packages (from catalogue<1.1.0,>=0.0.7->spacy<2.4.0,>=2.3.0->en_core_web_sm==2.3.0) (1.6.1)\n",
      "Requirement already satisfied: urllib3!=1.25.0,!=1.25.1,<1.26,>=1.21.1 in /Users/danoand/anaconda3/lib/python3.7/site-packages (from requests<3.0.0,>=2.13.0->spacy<2.4.0,>=2.3.0->en_core_web_sm==2.3.0) (1.24.2)\n",
      "Requirement already satisfied: chardet<3.1.0,>=3.0.2 in /Users/danoand/anaconda3/lib/python3.7/site-packages (from requests<3.0.0,>=2.13.0->spacy<2.4.0,>=2.3.0->en_core_web_sm==2.3.0) (3.0.4)\n",
      "Requirement already satisfied: certifi>=2017.4.17 in /Users/danoand/anaconda3/lib/python3.7/site-packages (from requests<3.0.0,>=2.13.0->spacy<2.4.0,>=2.3.0->en_core_web_sm==2.3.0) (2019.6.16)\n",
      "Requirement already satisfied: idna<2.9,>=2.5 in /Users/danoand/anaconda3/lib/python3.7/site-packages (from requests<3.0.0,>=2.13.0->spacy<2.4.0,>=2.3.0->en_core_web_sm==2.3.0) (2.8)\n",
      "Requirement already satisfied: zipp>=0.5 in /Users/danoand/anaconda3/lib/python3.7/site-packages (from importlib-metadata>=0.20; python_version < \"3.8\"->catalogue<1.1.0,>=0.0.7->spacy<2.4.0,>=2.3.0->en_core_web_sm==2.3.0) (0.5.1)\n",
      "\u001b[33mWARNING: You are using pip version 20.1; however, version 20.1.1 is available.\n",
      "You should consider upgrading via the '/Users/danoand/anaconda3/bin/python -m pip install --upgrade pip' command.\u001b[0m\n",
      "\u001b[38;5;2m✔ Download and installation successful\u001b[0m\n",
      "You can now load the model via spacy.load('en_core_web_sm')\n"
     ]
    }
   ],
   "source": [
    "!python -m spacy download en_core_web_sm"
   ]
  },
  {
   "cell_type": "code",
   "execution_count": 16,
   "metadata": {
    "colab": {},
    "colab_type": "code",
    "executionInfo": {
     "elapsed": 1290,
     "status": "ok",
     "timestamp": 1592825500187,
     "user": {
      "displayName": "Dan Anderson",
      "photoUrl": "https://lh3.googleusercontent.com/a-/AOh14GiZHeXYTevbWuiW1x6qJrJofr794LrUG_0yJS9R7w=s64",
      "userId": "15279993425386130717"
     },
     "user_tz": 300
    },
    "id": "g4YnAdE3YqS4"
   },
   "outputs": [],
   "source": [
    "# Use the spacy library to generate strain description tokens\n",
    "import spacy\n",
    "\n",
    "# Instantiate a spacy object\n",
    "nlp = spacy.load('en_core_web_sm')\n",
    "\n",
    "# tnkize_text takes a string and returns a list of tokens generated via the spacy library\n",
    "def tnkize_text(val):\n",
    "  tmp_list = []\n",
    "  tmp_doc = nlp(val)\n",
    "\n",
    "  # Iterate through the text's tokenized objects\n",
    "  for tkn in tmp_doc:\n",
    "    tmp_list.append(tkn.text)\n",
    "\n",
    "  return tmp_list\n"
   ]
  },
  {
   "cell_type": "code",
   "execution_count": 17,
   "metadata": {
    "colab": {},
    "colab_type": "code",
    "executionInfo": {
     "elapsed": 40917,
     "status": "ok",
     "timestamp": 1592825555735,
     "user": {
      "displayName": "Dan Anderson",
      "photoUrl": "https://lh3.googleusercontent.com/a-/AOh14GiZHeXYTevbWuiW1x6qJrJofr794LrUG_0yJS9R7w=s64",
      "userId": "15279993425386130717"
     },
     "user_tz": 300
    },
    "id": "isiK7EYZiW3u"
   },
   "outputs": [],
   "source": [
    "# Generate a list of description tokens\n",
    "df_data_upd['Description_tokens'] =  df_data_upd['Description_cleaned'].apply(tnkize_text)"
   ]
  },
  {
   "cell_type": "code",
   "execution_count": 18,
   "metadata": {
    "colab": {
     "base_uri": "https://localhost:8080/",
     "height": 374
    },
    "colab_type": "code",
    "executionInfo": {
     "elapsed": 516,
     "status": "ok",
     "timestamp": 1592825563893,
     "user": {
      "displayName": "Dan Anderson",
      "photoUrl": "https://lh3.googleusercontent.com/a-/AOh14GiZHeXYTevbWuiW1x6qJrJofr794LrUG_0yJS9R7w=s64",
      "userId": "15279993425386130717"
     },
     "user_tz": 300
    },
    "id": "qn7Eze1YjcqG",
    "outputId": "5527d818-afa6-4cb3-b51a-85496049359f"
   },
   "outputs": [
    {
     "data": {
      "text/plain": [
       "1528    [orange, dream, is, a, sativadominant, hybrid,...\n",
       "190     [berry, noir, is, an, indica, strain, that, co...\n",
       "2310    [white, zombie, is, a, potent, hybrid, strain,...\n",
       "2205    [twista, from, denvers, green, solution, is, a...\n",
       "1220    [originating, in, los, angelescaliforniala, ku...\n",
       "276     [a, descendent, of, the, famous, blue, dream, ...\n",
       "696     [dr, ., bubbles, is, a, delicious, strain, wit...\n",
       "950     [green, lantern, is, a, mostly, sativa, strain...\n",
       "1896    [smooth, operator, is, an, ideal, cut, for, co...\n",
       "793     [firewalker, og, is, a, sativadominant, cross,...\n",
       "1477    [northwest, pineapple, is, an, indicadominant,...\n",
       "440     [reeferman, seeds, created, the, vibrant, camb...\n",
       "1501    [og, strawberrygrown, on, the, southwest, ridg...\n",
       "998     [hawaiian, cookies, is, a, sativadominant, hyb...\n",
       "1336    [this, hybrid, from, the, bank, cannabis, gene...\n",
       "128     [arjan, 's, strawberry, haze, was, created, by...\n",
       "1511    [old, mother, sativa, is, an, enormous, plant,...\n",
       "524     [chocolate, chunk, by, t.h, ., seeds, is, a, p...\n",
       "663     [bred, by, resin, seeds, in, spaindieseltonic,...\n",
       "178     [bear, dance, is, a, sativadominant, hybrid, c...\n",
       "Name: Description_tokens, dtype: object"
      ]
     },
     "execution_count": 18,
     "metadata": {},
     "output_type": "execute_result"
    }
   ],
   "source": [
    "df_data_upd['Description_tokens'].sample(20)"
   ]
  },
  {
   "cell_type": "code",
   "execution_count": 19,
   "metadata": {
    "colab": {},
    "colab_type": "code",
    "executionInfo": {
     "elapsed": 729,
     "status": "ok",
     "timestamp": 1592825583990,
     "user": {
      "displayName": "Dan Anderson",
      "photoUrl": "https://lh3.googleusercontent.com/a-/AOh14GiZHeXYTevbWuiW1x6qJrJofr794LrUG_0yJS9R7w=s64",
      "userId": "15279993425386130717"
     },
     "user_tz": 300
    },
    "id": "2z4C03ucjns7"
   },
   "outputs": [],
   "source": [
    "# remove_one_letter_words removes one character strings from a list of strings\n",
    "def remove_one_letter_words(lst):\n",
    "  ret_list = []\n",
    "\n",
    "  # Iterate through the passed list\n",
    "  for elm in lst:\n",
    "    # Is the element not a string?\n",
    "    if type(elm) != str:\n",
    "      # Element not a string, skip\n",
    "      continue\n",
    "\n",
    "    # Does the element have a length of 0 or 1? Skip\n",
    "    if elm == \"\" or len(elm) == 1:\n",
    "      continue\n",
    "\n",
    "    ret_list.append(elm)\n",
    "\n",
    "  # Return the updated list\n",
    "  return ret_list\n",
    "\n",
    "\n",
    "# gen_all_tokens creates a column consisting of description, effects, \n",
    "#    flavors, and symptoms tokens (\"ALL_TOKENTS\")\n",
    "def gen_all_tokens(DF):\n",
    "  DF_WRK = DF.copy()\n",
    "\n",
    "  DF_WRK['ALL_TOKENS'] = DF_WRK['Description_tokens'] \\\n",
    "    + DF_WRK['Effects_list'] \\\n",
    "    + DF_WRK['Flavor_list'] \\\n",
    "    + DF_WRK['symptoms_diseases_list']\n",
    "\n",
    "  return DF_WRK"
   ]
  },
  {
   "cell_type": "code",
   "execution_count": 20,
   "metadata": {
    "colab": {},
    "colab_type": "code",
    "executionInfo": {
     "elapsed": 455,
     "status": "ok",
     "timestamp": 1592825590666,
     "user": {
      "displayName": "Dan Anderson",
      "photoUrl": "https://lh3.googleusercontent.com/a-/AOh14GiZHeXYTevbWuiW1x6qJrJofr794LrUG_0yJS9R7w=s64",
      "userId": "15279993425386130717"
     },
     "user_tz": 300
    },
    "id": "k_a-5y1Fny5p"
   },
   "outputs": [],
   "source": [
    "# Create a column ('ALL_TOKENS') of strain tokens that\n",
    "#   consist of the description, effects, flavors, and symptom tokens\n",
    "df_data_upd = gen_all_tokens(df_data_upd)\n",
    "\n",
    "# Remove all one character word tokens from the 'ALL_TOKENS' column\n",
    "df_data_upd['ALL_TOKENS'] = df_data_upd['ALL_TOKENS'].apply(remove_one_letter_words)"
   ]
  },
  {
   "cell_type": "code",
   "execution_count": 21,
   "metadata": {
    "colab": {},
    "colab_type": "code",
    "executionInfo": {
     "elapsed": 39780,
     "status": "ok",
     "timestamp": 1592825634957,
     "user": {
      "displayName": "Dan Anderson",
      "photoUrl": "https://lh3.googleusercontent.com/a-/AOh14GiZHeXYTevbWuiW1x6qJrJofr794LrUG_0yJS9R7w=s64",
      "userId": "15279993425386130717"
     },
     "user_tz": 300
    },
    "id": "Gwz4A_x2nLYt"
   },
   "outputs": [],
   "source": [
    "df_data_upd.to_csv('df.csv')"
   ]
  },
  {
   "cell_type": "markdown",
   "metadata": {
    "colab_type": "text",
    "id": "xosDbbih7_pu"
   },
   "source": [
    "## VECTORIZE EACH STRAIN'S DESCRIPTION & CHARACTERISTICS"
   ]
  },
  {
   "cell_type": "code",
   "execution_count": 22,
   "metadata": {
    "colab": {},
    "colab_type": "code",
    "executionInfo": {
     "elapsed": 661,
     "status": "ok",
     "timestamp": 1592825688514,
     "user": {
      "displayName": "Dan Anderson",
      "photoUrl": "https://lh3.googleusercontent.com/a-/AOh14GiZHeXYTevbWuiW1x6qJrJofr794LrUG_0yJS9R7w=s64",
      "userId": "15279993425386130717"
     },
     "user_tz": 300
    },
    "id": "6eRq-GSD1BAy"
   },
   "outputs": [],
   "source": [
    "# Use TFIDF and vectorize the strain tokens ('ALL_TOKENS')\n",
    "from sklearn.feature_extraction.text import TfidfVectorizer\n",
    "\n",
    "def dummy_func(doc):\n",
    "    return doc\n",
    "\n",
    "tfidf = TfidfVectorizer(\n",
    "    analyzer='word',\n",
    "    stop_words = 'english',\n",
    "    tokenizer=dummy_func,\n",
    "    preprocessor=dummy_func,\n",
    "    token_pattern=None) "
   ]
  },
  {
   "cell_type": "code",
   "execution_count": 25,
   "metadata": {
    "colab": {
     "base_uri": "https://localhost:8080/",
     "height": 270
    },
    "colab_type": "code",
    "executionInfo": {
     "elapsed": 901,
     "status": "ok",
     "timestamp": 1592825914087,
     "user": {
      "displayName": "Dan Anderson",
      "photoUrl": "https://lh3.googleusercontent.com/a-/AOh14GiZHeXYTevbWuiW1x6qJrJofr794LrUG_0yJS9R7w=s64",
      "userId": "15279993425386130717"
     },
     "user_tz": 300
    },
    "id": "gTsyGYIO2SxJ",
    "outputId": "1a66deb0-5516-422c-ca0f-818bbf3fc629"
   },
   "outputs": [
    {
     "name": "stdout",
     "output_type": "stream",
     "text": [
      "(2350, 16383)\n"
     ]
    },
    {
     "data": {
      "text/html": [
       "<div>\n",
       "<style scoped>\n",
       "    .dataframe tbody tr th:only-of-type {\n",
       "        vertical-align: middle;\n",
       "    }\n",
       "\n",
       "    .dataframe tbody tr th {\n",
       "        vertical-align: top;\n",
       "    }\n",
       "\n",
       "    .dataframe thead th {\n",
       "        text-align: right;\n",
       "    }\n",
       "</style>\n",
       "<table border=\"1\" class=\"dataframe\">\n",
       "  <thead>\n",
       "    <tr style=\"text-align: right;\">\n",
       "      <th></th>\n",
       "      <th>'d</th>\n",
       "      <th>'s</th>\n",
       "      <th>...</th>\n",
       "      <th>0.14the</th>\n",
       "      <th>0.18</th>\n",
       "      <th>0.23</th>\n",
       "      <th>0.3</th>\n",
       "      <th>0.36</th>\n",
       "      <th>0.38</th>\n",
       "      <th>0.47</th>\n",
       "      <th>...</th>\n",
       "      <th>zion</th>\n",
       "      <th>zipping</th>\n",
       "      <th>zkittlez</th>\n",
       "      <th>zombie</th>\n",
       "      <th>zombiewith</th>\n",
       "      <th>zone</th>\n",
       "      <th>zonethe</th>\n",
       "      <th>zoning</th>\n",
       "      <th>zoom</th>\n",
       "      <th>zs</th>\n",
       "    </tr>\n",
       "  </thead>\n",
       "  <tbody>\n",
       "    <tr>\n",
       "      <th>0</th>\n",
       "      <td>0.0</td>\n",
       "      <td>0.0</td>\n",
       "      <td>0.0</td>\n",
       "      <td>0.0</td>\n",
       "      <td>0.0</td>\n",
       "      <td>0.0</td>\n",
       "      <td>0.0</td>\n",
       "      <td>0.0</td>\n",
       "      <td>0.0</td>\n",
       "      <td>0.0</td>\n",
       "      <td>...</td>\n",
       "      <td>0.0</td>\n",
       "      <td>0.0</td>\n",
       "      <td>0.0</td>\n",
       "      <td>0.0</td>\n",
       "      <td>0.0</td>\n",
       "      <td>0.0</td>\n",
       "      <td>0.0</td>\n",
       "      <td>0.0</td>\n",
       "      <td>0.0</td>\n",
       "      <td>0.0</td>\n",
       "    </tr>\n",
       "    <tr>\n",
       "      <th>1</th>\n",
       "      <td>0.0</td>\n",
       "      <td>0.0</td>\n",
       "      <td>0.0</td>\n",
       "      <td>0.0</td>\n",
       "      <td>0.0</td>\n",
       "      <td>0.0</td>\n",
       "      <td>0.0</td>\n",
       "      <td>0.0</td>\n",
       "      <td>0.0</td>\n",
       "      <td>0.0</td>\n",
       "      <td>...</td>\n",
       "      <td>0.0</td>\n",
       "      <td>0.0</td>\n",
       "      <td>0.0</td>\n",
       "      <td>0.0</td>\n",
       "      <td>0.0</td>\n",
       "      <td>0.0</td>\n",
       "      <td>0.0</td>\n",
       "      <td>0.0</td>\n",
       "      <td>0.0</td>\n",
       "      <td>0.0</td>\n",
       "    </tr>\n",
       "    <tr>\n",
       "      <th>2</th>\n",
       "      <td>0.0</td>\n",
       "      <td>0.0</td>\n",
       "      <td>0.0</td>\n",
       "      <td>0.0</td>\n",
       "      <td>0.0</td>\n",
       "      <td>0.0</td>\n",
       "      <td>0.0</td>\n",
       "      <td>0.0</td>\n",
       "      <td>0.0</td>\n",
       "      <td>0.0</td>\n",
       "      <td>...</td>\n",
       "      <td>0.0</td>\n",
       "      <td>0.0</td>\n",
       "      <td>0.0</td>\n",
       "      <td>0.0</td>\n",
       "      <td>0.0</td>\n",
       "      <td>0.0</td>\n",
       "      <td>0.0</td>\n",
       "      <td>0.0</td>\n",
       "      <td>0.0</td>\n",
       "      <td>0.0</td>\n",
       "    </tr>\n",
       "    <tr>\n",
       "      <th>3</th>\n",
       "      <td>0.0</td>\n",
       "      <td>0.0</td>\n",
       "      <td>0.0</td>\n",
       "      <td>0.0</td>\n",
       "      <td>0.0</td>\n",
       "      <td>0.0</td>\n",
       "      <td>0.0</td>\n",
       "      <td>0.0</td>\n",
       "      <td>0.0</td>\n",
       "      <td>0.0</td>\n",
       "      <td>...</td>\n",
       "      <td>0.0</td>\n",
       "      <td>0.0</td>\n",
       "      <td>0.0</td>\n",
       "      <td>0.0</td>\n",
       "      <td>0.0</td>\n",
       "      <td>0.0</td>\n",
       "      <td>0.0</td>\n",
       "      <td>0.0</td>\n",
       "      <td>0.0</td>\n",
       "      <td>0.0</td>\n",
       "    </tr>\n",
       "    <tr>\n",
       "      <th>4</th>\n",
       "      <td>0.0</td>\n",
       "      <td>0.0</td>\n",
       "      <td>0.0</td>\n",
       "      <td>0.0</td>\n",
       "      <td>0.0</td>\n",
       "      <td>0.0</td>\n",
       "      <td>0.0</td>\n",
       "      <td>0.0</td>\n",
       "      <td>0.0</td>\n",
       "      <td>0.0</td>\n",
       "      <td>...</td>\n",
       "      <td>0.0</td>\n",
       "      <td>0.0</td>\n",
       "      <td>0.0</td>\n",
       "      <td>0.0</td>\n",
       "      <td>0.0</td>\n",
       "      <td>0.0</td>\n",
       "      <td>0.0</td>\n",
       "      <td>0.0</td>\n",
       "      <td>0.0</td>\n",
       "      <td>0.0</td>\n",
       "    </tr>\n",
       "  </tbody>\n",
       "</table>\n",
       "<p>5 rows × 16383 columns</p>\n",
       "</div>"
      ],
      "text/plain": [
       "    'd   's  ...  0.14the  0.18  0.23  0.3  0.36  0.38  0.47  ...  zion  \\\n",
       "0  0.0  0.0  0.0      0.0   0.0   0.0  0.0   0.0   0.0   0.0  ...   0.0   \n",
       "1  0.0  0.0  0.0      0.0   0.0   0.0  0.0   0.0   0.0   0.0  ...   0.0   \n",
       "2  0.0  0.0  0.0      0.0   0.0   0.0  0.0   0.0   0.0   0.0  ...   0.0   \n",
       "3  0.0  0.0  0.0      0.0   0.0   0.0  0.0   0.0   0.0   0.0  ...   0.0   \n",
       "4  0.0  0.0  0.0      0.0   0.0   0.0  0.0   0.0   0.0   0.0  ...   0.0   \n",
       "\n",
       "   zipping  zkittlez  zombie  zombiewith  zone  zonethe  zoning  zoom   zs  \n",
       "0      0.0       0.0     0.0         0.0   0.0      0.0     0.0   0.0  0.0  \n",
       "1      0.0       0.0     0.0         0.0   0.0      0.0     0.0   0.0  0.0  \n",
       "2      0.0       0.0     0.0         0.0   0.0      0.0     0.0   0.0  0.0  \n",
       "3      0.0       0.0     0.0         0.0   0.0      0.0     0.0   0.0  0.0  \n",
       "4      0.0       0.0     0.0         0.0   0.0      0.0     0.0   0.0  0.0  \n",
       "\n",
       "[5 rows x 16383 columns]"
      ]
     },
     "execution_count": 25,
     "metadata": {},
     "output_type": "execute_result"
    }
   ],
   "source": [
    "# Create a vocabulary and tf-idf score per document\n",
    "dtm = tfidf.fit_transform(df_data_upd['ALL_TOKENS'])\n",
    "\n",
    "# Get feature names to use as dataframe column headers\n",
    "dtm = pd.DataFrame(dtm.todense(), columns=tfidf.get_feature_names())\n",
    "\n",
    "# View Feature Matrix as DataFrame\n",
    "print(dtm.shape)\n",
    "dtm.head()"
   ]
  },
  {
   "cell_type": "markdown",
   "metadata": {
    "colab_type": "text",
    "id": "ZzSE2ixR8SUZ"
   },
   "source": [
    "## CONSTRUCT A NEAREST NEIGHBORS MODEL TO GENERATE RECOMMENDATIONS"
   ]
  },
  {
   "cell_type": "code",
   "execution_count": 26,
   "metadata": {
    "colab": {
     "base_uri": "https://localhost:8080/",
     "height": 68
    },
    "colab_type": "code",
    "executionInfo": {
     "elapsed": 5630,
     "status": "ok",
     "timestamp": 1592825927984,
     "user": {
      "displayName": "Dan Anderson",
      "photoUrl": "https://lh3.googleusercontent.com/a-/AOh14GiZHeXYTevbWuiW1x6qJrJofr794LrUG_0yJS9R7w=s64",
      "userId": "15279993425386130717"
     },
     "user_tz": 300
    },
    "id": "sIB5Jneo3WEM",
    "outputId": "941dae4e-8ac1-470c-abca-8888976eeec0"
   },
   "outputs": [
    {
     "data": {
      "text/plain": [
       "NearestNeighbors(algorithm='kd_tree', leaf_size=30, metric='minkowski',\n",
       "                 metric_params=None, n_jobs=None, n_neighbors=8, p=2,\n",
       "                 radius=1.0)"
      ]
     },
     "execution_count": 26,
     "metadata": {},
     "output_type": "execute_result"
    }
   ],
   "source": [
    "# Define a Nearest Neighbors model on which to compare incoming text\n",
    "from sklearn.neighbors import NearestNeighbors\n",
    "\n",
    "# Fit on the nearest neighbors model TF-IDF feature matrix created above \n",
    "nn = NearestNeighbors(n_neighbors=8, algorithm='kd_tree')\n",
    "nn.fit(dtm)"
   ]
  },
  {
   "cell_type": "code",
   "execution_count": 27,
   "metadata": {
    "colab": {
     "base_uri": "https://localhost:8080/",
     "height": 68
    },
    "colab_type": "code",
    "executionInfo": {
     "elapsed": 462,
     "status": "ok",
     "timestamp": 1592825933992,
     "user": {
      "displayName": "Dan Anderson",
      "photoUrl": "https://lh3.googleusercontent.com/a-/AOh14GiZHeXYTevbWuiW1x6qJrJofr794LrUG_0yJS9R7w=s64",
      "userId": "15279993425386130717"
     },
     "user_tz": 300
    },
    "id": "vuN_1Y8x5YWA",
    "outputId": "c11c8506-b9b5-47d9-b3c3-75e70bafb6a5"
   },
   "outputs": [
    {
     "data": {
      "text/plain": [
       "(array([[0.        , 1.06450694, 1.19133723, 1.26735898, 1.27620083,\n",
       "         1.29822153, 1.30003998, 1.30162712]]),\n",
       " array([[  10, 1929,  741,  649, 1372,  543, 1938, 1589]]))"
      ]
     },
     "execution_count": 27,
     "metadata": {},
     "output_type": "execute_result"
    }
   ],
   "source": [
    "nn.kneighbors([dtm.iloc[10].values])"
   ]
  },
  {
   "cell_type": "markdown",
   "metadata": {
    "colab_type": "text",
    "id": "WcB7YaLc9ETa"
   },
   "source": [
    "## GENERATE A SAMPLE RECOMMENDATION"
   ]
  },
  {
   "cell_type": "code",
   "execution_count": 28,
   "metadata": {
    "colab": {
     "base_uri": "https://localhost:8080/",
     "height": 51
    },
    "colab_type": "code",
    "executionInfo": {
     "elapsed": 747,
     "status": "ok",
     "timestamp": 1592825940991,
     "user": {
      "displayName": "Dan Anderson",
      "photoUrl": "https://lh3.googleusercontent.com/a-/AOh14GiZHeXYTevbWuiW1x6qJrJofr794LrUG_0yJS9R7w=s64",
      "userId": "15279993425386130717"
     },
     "user_tz": 300
    },
    "id": "USnYnpAH5zWX",
    "outputId": "314f5071-186c-46e7-ec2a-d972e71f4676"
   },
   "outputs": [
    {
     "data": {
      "text/plain": [
       "(array([[1., 1., 1., 1., 1., 1., 1., 1.]]),\n",
       " array([[2199,  160,  776,  602, 2044,  852,  826, 1626]]))"
      ]
     },
     "execution_count": 28,
     "metadata": {},
     "output_type": "execute_result"
    }
   ],
   "source": [
    "# Score a new document and return it's nearest neighbors\n",
    "new_doc_score = tfidf.transform([\"I want to feel super relaxed, yet energetic and creative\"])\n",
    "\n",
    "# Execute the nearest neighbors model using the newly scored document\n",
    "nn.kneighbors(new_doc_score.todense())"
   ]
  },
  {
   "cell_type": "code",
   "execution_count": 29,
   "metadata": {
    "colab": {
     "base_uri": "https://localhost:8080/",
     "height": 340
    },
    "colab_type": "code",
    "executionInfo": {
     "elapsed": 541,
     "status": "ok",
     "timestamp": 1592825946044,
     "user": {
      "displayName": "Dan Anderson",
      "photoUrl": "https://lh3.googleusercontent.com/a-/AOh14GiZHeXYTevbWuiW1x6qJrJofr794LrUG_0yJS9R7w=s64",
      "userId": "15279993425386130717"
     },
     "user_tz": 300
    },
    "id": "szuxFqyZ6xw-",
    "outputId": "0df66564-ef3b-46a9-e1ad-db8ba21c9e35"
   },
   "outputs": [
    {
     "data": {
      "text/plain": [
       "index                                                                    84\n",
       "Strain                                                     Alien-Technology\n",
       "Type                                                                 indica\n",
       "Rating                                                                  4.5\n",
       "Effects                         Happy, Relaxed, Uplifted, Euphoric, Focused\n",
       "Flavor                                          Earthy, Spicy/Herbal, Woody\n",
       "symptoms_diseases                                              spasticity, \n",
       "Description               Very little is known about Alien Technology ot...\n",
       "text_all                  Happy  Relaxed  Uplifted  Euphoric  Focused  E...\n",
       "Effects_and_Flavor        Happy, Relaxed, Uplifted, Euphoric, Focused, E...\n",
       "tokens                    ['happy', 'relaxed', 'uplifted', 'euphoric', '...\n",
       "description_formatted     very little is known about alien technology ot...\n",
       "Effects_list                  [happy, relaxed, uplifted, euphoric, focused]\n",
       "Flavor_list                                   [earthy, spicy/herbal, woody]\n",
       "symptoms_diseases_list                                         [spasticity]\n",
       "Description_cleaned       very little is known about alien technology ot...\n",
       "Description_tokens        [very, little, is, known, about, alien, techno...\n",
       "ALL_TOKENS                [very, little, is, known, about, alien, techno...\n",
       "Name: 84, dtype: object"
      ]
     },
     "execution_count": 29,
     "metadata": {},
     "output_type": "execute_result"
    }
   ],
   "source": [
    "df_data_upd.iloc[84]"
   ]
  },
  {
   "cell_type": "code",
   "execution_count": 30,
   "metadata": {
    "colab": {},
    "colab_type": "code",
    "executionInfo": {
     "elapsed": 2234,
     "status": "ok",
     "timestamp": 1592825953191,
     "user": {
      "displayName": "Dan Anderson",
      "photoUrl": "https://lh3.googleusercontent.com/a-/AOh14GiZHeXYTevbWuiW1x6qJrJofr794LrUG_0yJS9R7w=s64",
      "userId": "15279993425386130717"
     },
     "user_tz": 300
    },
    "id": "VCe2wcEWViup"
   },
   "outputs": [],
   "source": [
    "import pickle\n",
    "\n",
    "# Open a file and write the Nearest Neighbors model disk (pickling)\n",
    "pkl_file = open(\"nn_model.pkl\", 'wb')\n",
    "pickle.dump(nn, pkl_file)\n",
    "pkl_file.close()"
   ]
  },
  {
   "cell_type": "code",
   "execution_count": 31,
   "metadata": {
    "colab": {},
    "colab_type": "code",
    "executionInfo": {
     "elapsed": 515,
     "status": "ok",
     "timestamp": 1592825957381,
     "user": {
      "displayName": "Dan Anderson",
      "photoUrl": "https://lh3.googleusercontent.com/a-/AOh14GiZHeXYTevbWuiW1x6qJrJofr794LrUG_0yJS9R7w=s64",
      "userId": "15279993425386130717"
     },
     "user_tz": 300
    },
    "id": "XcCSwfReG2af"
   },
   "outputs": [],
   "source": [
    "# Open a file and write the TfidfVectorizer model to disk\n",
    "pkl_tfidf_file = open(\"tfidf_model.pkl\", 'wb')\n",
    "pickle.dump(tfidf, pkl_tfidf_file)\n",
    "pkl_tfidf_file.close()"
   ]
  },
  {
   "cell_type": "code",
   "execution_count": 32,
   "metadata": {
    "colab": {},
    "colab_type": "code",
    "executionInfo": {
     "elapsed": 646,
     "status": "ok",
     "timestamp": 1592825971208,
     "user": {
      "displayName": "Dan Anderson",
      "photoUrl": "https://lh3.googleusercontent.com/a-/AOh14GiZHeXYTevbWuiW1x6qJrJofr794LrUG_0yJS9R7w=s64",
      "userId": "15279993425386130717"
     },
     "user_tz": 300
    },
    "id": "bPx6P_qibaCs"
   },
   "outputs": [],
   "source": [
    "# Open a file for reading (unpickling)\n",
    "pkl_file = open(\"nn_model.pkl\", 'rb')\n",
    "nn_prime = pickle.load(pkl_file)\n",
    "pkl_file.close()"
   ]
  },
  {
   "cell_type": "code",
   "execution_count": 33,
   "metadata": {
    "colab": {
     "base_uri": "https://localhost:8080/",
     "height": 34
    },
    "colab_type": "code",
    "executionInfo": {
     "elapsed": 433,
     "status": "ok",
     "timestamp": 1592825975857,
     "user": {
      "displayName": "Dan Anderson",
      "photoUrl": "https://lh3.googleusercontent.com/a-/AOh14GiZHeXYTevbWuiW1x6qJrJofr794LrUG_0yJS9R7w=s64",
      "userId": "15279993425386130717"
     },
     "user_tz": 300
    },
    "id": "QIG59W_Jb3LU",
    "outputId": "21e8fc86-07cc-41a3-9bb6-b6806e16a137"
   },
   "outputs": [
    {
     "data": {
      "text/plain": [
       "8"
      ]
     },
     "execution_count": 33,
     "metadata": {},
     "output_type": "execute_result"
    }
   ],
   "source": [
    "nn_prime.n_neighbors"
   ]
  },
  {
   "cell_type": "code",
   "execution_count": 34,
   "metadata": {
    "colab": {
     "base_uri": "https://localhost:8080/",
     "height": 34
    },
    "colab_type": "code",
    "executionInfo": {
     "elapsed": 375,
     "status": "ok",
     "timestamp": 1592825978778,
     "user": {
      "displayName": "Dan Anderson",
      "photoUrl": "https://lh3.googleusercontent.com/a-/AOh14GiZHeXYTevbWuiW1x6qJrJofr794LrUG_0yJS9R7w=s64",
      "userId": "15279993425386130717"
     },
     "user_tz": 300
    },
    "id": "Ll3g0cOphsC8",
    "outputId": "9d9a3739-3035-4280-e421-09123485f231"
   },
   "outputs": [
    {
     "data": {
      "text/plain": [
       "array([2199,  160,  776,  602, 2044,  852,  826, 1626])"
      ]
     },
     "execution_count": 34,
     "metadata": {},
     "output_type": "execute_result"
    }
   ],
   "source": [
    "nn.kneighbors(new_doc_score.todense())[1][0]"
   ]
  },
  {
   "cell_type": "code",
   "execution_count": null,
   "metadata": {},
   "outputs": [],
   "source": []
  }
 ],
 "metadata": {
  "colab": {
   "authorship_tag": "ABX9TyN+tmj3YguoesR7KIZewIYD",
   "collapsed_sections": [],
   "name": "LS Build Week 0620 Data Exploration 02.ipynb",
   "provenance": [
    {
     "file_id": "1lf_UPt-tDErBxV8ozVO0-7G4FGS0JGdu",
     "timestamp": 1592597366989
    }
   ],
   "toc_visible": true
  },
  "kernelspec": {
   "display_name": "Python 3",
   "language": "python",
   "name": "python3"
  },
  "language_info": {
   "codemirror_mode": {
    "name": "ipython",
    "version": 3
   },
   "file_extension": ".py",
   "mimetype": "text/x-python",
   "name": "python",
   "nbconvert_exporter": "python",
   "pygments_lexer": "ipython3",
   "version": "3.7.3"
  }
 },
 "nbformat": 4,
 "nbformat_minor": 4
}
